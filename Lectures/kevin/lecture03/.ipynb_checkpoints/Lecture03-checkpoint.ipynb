{
 "cells": [
  {
   "cell_type": "markdown",
   "id": "infectious-jacksonville",
   "metadata": {},
   "source": [
    "**Mode 1**\n",
    "\n",
    "$\\begin{eqnarray}\n",
    "v_L &=& L \\frac{di_L}{dt} = V_{in} \\\\[0.5em]\n",
    "0 &=& i_C  + \\frac{v_C}{R} \\\\[0.5em]\n",
    "0 &=& C \\frac{dv_C}{dt} + \\frac{v_C}{R} \\\\[0.5em]\n",
    "\\therefore && C \\frac{dv_C}{dt} = -\\frac{v_C}{R}\n",
    "\\end{eqnarray}$"
   ]
  },
  {
   "cell_type": "markdown",
   "id": "virgin-counter",
   "metadata": {},
   "source": [
    "**Mode 2**"
   ]
  },
  {
   "cell_type": "markdown",
   "id": "early-motor",
   "metadata": {},
   "source": [
    "$\\begin{eqnarray}\n",
    "v_L &=& L\\frac{di_L}{dt} = -v_C \\\\[0.5em]\n",
    "i_L &=& i_C + \\frac{v_C}{R} \\\\[0.5em]\n",
    "\\therefore && C \\frac{dv_C}{dt} = -\\frac{v_C}{R} + i_L \\\\[0.5em]\n",
    "\\end{eqnarray}$\n",
    "\n",
    "<hr>"
   ]
  },
  {
   "cell_type": "markdown",
   "id": "square-blend",
   "metadata": {},
   "source": [
    "$\\begin{eqnarray}\n",
    "\\langle x(t)\\rangle_{Ts} &=& \\int_{t}^{t+T_s} x(\\tau)  \\,d \\tau \\\\[0.5em]\n",
    "0 &=& (V_{in})D + (-V_c) D' \\\\[0.5em]\n",
    "0 &=& (-\\frac{v_C}{R})D +  (-\\frac{v_C}{R} + I_L)D'\n",
    "\\end{eqnarray}$\n",
    "\n",
    "<hr>"
   ]
  },
  {
   "cell_type": "markdown",
   "id": "stupid-noise",
   "metadata": {},
   "source": [
    "**Notation**\n",
    "\n",
    "$\\langle x (t) \\rangle_{Ts}$ denotes the average of $x(t)$ over an interval of length $T_s$\n",
    "\n",
    "<hr>"
   ]
  },
  {
   "cell_type": "markdown",
   "id": "binding-consequence",
   "metadata": {},
   "source": [
    "$\\begin{eqnarray}\n",
    "\\langle v_L(t)\\rangle_{Ts} &=& L\\frac{d}{dt}\\langle i_L (t) \\rangle_{Ts} = [ v_L \\text{ during mode 1}] \\ d(t)  + [ v_L \\text{ during mode 2}] \\ d'(t) \\\\[0.5em]\n",
    "&=& \\langle v_{in}(t)\\rangle_{Ts}\\ d(t) + \\langle -v_{C}(t)\\rangle_{Ts}\\ d'(t) \\\\[0.5em]\n",
    "&=& \\langle v_{in}(t)\\rangle_{Ts}\\ d(t) - \\langle v_{C}(t)\\rangle_{Ts}\\ d'(t) \\\\[0.5em]\n",
    "\\langle i_C(t)\\rangle_{Ts} &=& C \\frac{d}{dt} \\langle v_C (t) \\rangle_{Ts} = [ i_C \\text{ during mode 1}] \\ d(t)  + [ i_C \\text{ during mode 2}] \\ d'(t) \\\\[0.5em]\n",
    "&=& \\left(-\\frac{\\langle v_{C}(t)\\rangle_{Ts}}{R}\\right) d(t) + \\left(- \\frac{\\langle v_{C}(t)\\rangle_{Ts}}{R}  + \\langle i_L (t) \\rangle_{Ts} \\right) d'(t) \\\\[0.5em]\n",
    "\\end{eqnarray}$\n",
    "\n",
    "<hr>"
   ]
  },
  {
   "cell_type": "markdown",
   "id": "adjusted-cancellation",
   "metadata": {},
   "source": [
    "**Perturbation**"
   ]
  },
  {
   "cell_type": "markdown",
   "id": "loving-continuity",
   "metadata": {},
   "source": [
    "$\\begin{eqnarray}\n",
    "\\langle i_L (t) \\rangle_{Ts} &=& I_L + \\tilde{i_L}(t) \\\\[0.5em]\n",
    "\\langle v_{C}(t)\\rangle_{Ts} &=& V_C + \\tilde{v_C}(t) \\\\[0.5em]\n",
    "\\langle v_{in}(t)\\rangle_{Ts} &=& V_{in} + \\tilde{v_{in}}(t) \\\\[0.5em]\n",
    "d(t) &=& D + \\tilde{d}(t) \\\\[0.5em]\n",
    "d'(t) &=& 1 - d(t) \\\\[0.5em]\n",
    "&=& 1 - D -\\tilde{d}(t) \\\\[0.5em]\n",
    "&=& D' - \\tilde{d}(t) \\\\[0.5em]\n",
    "\\end{eqnarray}$\n",
    "\n",
    "<hr>"
   ]
  },
  {
   "cell_type": "markdown",
   "id": "opposed-stylus",
   "metadata": {},
   "source": [
    "$\\begin{eqnarray}\n",
    "\\langle v_{L}(t)\\rangle_{Ts} &=& L \\frac{d}{dt}\\langle i_L (t) \\rangle_{Ts} = \\langle v_{in}(t)\\rangle_{Ts}\\ d(t) + \\langle -v_{C}(t)\\rangle_{Ts}\\ d'(t) \\\\[0.5em]\n",
    "&& L \\frac{d}{dt}\\left[I_L +\\tilde{i_L} (t) \\right] = \\left[V_{in} + \\tilde{v_{in}}(t) \\right]\\left[D + \\tilde{d}(t)\\right] - \\left[V_C + \\tilde{v_C}(t) \\right] \\left[D' - \\tilde{d}(t) \\right] \\\\[0.5em]\n",
    "&& L \\frac{d}{dt} I_L + L \\frac{d}{dt} \\tilde{i_L} (t) = V_{in}D + V_{in}\\tilde{d}(t) + \\tilde{v_{in}}(t)D + \\tilde{v_{in}}(t)\\tilde{d}(t) -  V_C D' + V_C \\tilde{d}(t) - \\tilde{v_C}(t)D' + \\tilde{v_C}(t)\\tilde{d}(t) \\\\[0.5em]\n",
    "\\end{eqnarray}$\n",
    "\n",
    "<hr>"
   ]
  },
  {
   "cell_type": "markdown",
   "id": "third-bumper",
   "metadata": {},
   "source": [
    "Note $\\tilde{v_C}(t)\\tilde{d}(t)$ and $\\tilde{v_{in}}(t)\\tilde{d}(t)$ are very small and can be ignored"
   ]
  },
  {
   "cell_type": "markdown",
   "id": "homeless-collector",
   "metadata": {},
   "source": [
    "**Large Signal Terms**\n",
    "\n",
    "$\\begin{eqnarray}\n",
    "L \\frac{d}{dt} I_L &=& V_{in}D + - V_C D' = 0 \\\\[0.5em]\n",
    "V_{in}D &=& V_C D' \\text{ where } V_C = V_0\\\\[0.5em]\n",
    "\\therefore V_0 &=& \\frac{V_{in} D}{D'}\n",
    "\\end{eqnarray}$\n",
    "\n",
    "<hr>"
   ]
  },
  {
   "cell_type": "markdown",
   "id": "bulgarian-corruption",
   "metadata": {},
   "source": [
    "**Small Signal Terms**\n",
    "\n",
    "$\\begin{eqnarray}\n",
    "L \\frac{d}{dt} \\tilde{i_L} (t) &=& V_{in}\\tilde{d}(t) + \\tilde{v_{in}}(t)D + V_C \\tilde{d}(t) - \\tilde{v_C}(t)D'  \\\\[0.5em]\n",
    "\\end{eqnarray}$\n",
    "\n",
    "<hr>"
   ]
  },
  {
   "cell_type": "markdown",
   "id": "fancy-victorian",
   "metadata": {},
   "source": [
    "**Capacitor Voltage**\n",
    "\n",
    "$\\begin{eqnarray}\n",
    "\\langle i_C (t) \\rangle_{Ts} &=& C \\frac{d}{dt}\\langle v_C (t) \\rangle_{Ts} = \\left(\\frac{\\langle v_{C}(t)\\rangle_{Ts}}{R}\\right) d(t) + \\left(- \\frac{\\langle v_{C}(t)\\rangle_{Ts}}{R}  + \\langle i_L (t) \\rangle_{Ts} \\right) d'(t) \\\\[0.5em]\n",
    "&& C \\frac{d}{dt}\\langle v_C (t) \\rangle_{Ts} = \\frac{-\\langle v_{C}(t)\\rangle_{Ts}}{R} \\left(d(t) + d'(t) \\right) + \\langle i_L (t) \\rangle_{Ts}\\ d'(t) \\\\[0.5em]\n",
    "&& C \\frac{d}{dt}\\langle v_C (t) \\rangle_{Ts} = \\frac{-\\langle v_{C}(t)\\rangle_{Ts}}{R} + \\langle i_L (t) \\rangle_{Ts}\\ d'(t) \\\\[0.5em]\n",
    "\\therefore && C \\frac{d}{dt}\\left[ V_C + \\tilde{v_C}(t) \\right] = \\frac{-\\left[V_C + \\tilde{v_C}(t) \\right]}{R} + \\left[I_L + \\tilde{i_L}(t) \\right] \\left[D'- \\tilde{d}(t) \\right] \\\\[0.5em]\n",
    "\\end{eqnarray}$\n",
    "\n",
    "<hr>"
   ]
  },
  {
   "cell_type": "markdown",
   "id": "regulation-concord",
   "metadata": {},
   "source": [
    "**Large Signal Terms**\n",
    "\n",
    "$\\begin{eqnarray}\n",
    "C \\frac{d}{dt} V_C &=& \\frac{V_C }{R} + I_L D' = 0 \\\\[0.5em]\n",
    "I_L &=& \\frac{V_C}{R D'} \\text{ where } V_C = V_0\\\\[0.5em]\n",
    "\\therefore I_L &=& \\frac{V_0}{R D'} = \\frac{I_0}{D'}\n",
    "\\end{eqnarray}$\n",
    "\n",
    "<hr>"
   ]
  },
  {
   "cell_type": "markdown",
   "id": "widespread-discount",
   "metadata": {},
   "source": [
    "**Small Signal Terms**\n",
    "\n",
    "$\\begin{eqnarray}\n",
    "C \\frac{d}{dt} \\tilde{v_C}(t) &=& \\frac{-\\tilde{v_C}(t)}{R} - I_L \\tilde{d}(t) + \\tilde{i_L}(t)D' \\\\[0.5em]\n",
    "\\end{eqnarray}$\n",
    "\n",
    "<hr>"
   ]
  },
  {
   "cell_type": "markdown",
   "id": "persistent-cradle",
   "metadata": {},
   "source": [
    "**Linear Small System**\n",
    "\n",
    "$\\begin{eqnarray}\n",
    "L \\frac{d}{dt} \\tilde{i_L} (t) &=& V_{in}\\tilde{d}(t) + \\tilde{v_{in}}(t)D + V_C \\tilde{d}(t) - \\tilde{v_C}(t)D'  \\\\[0.5em]\n",
    "C \\frac{d}{dt} \\tilde{v_C}(t) &=& \\frac{-\\tilde{v_C}(t)}{R} - I_L \\tilde{d}(t) + \\tilde{i_L}(t)D' \\\\[0.5em]\n",
    "\\end{eqnarray}$\n",
    "\n",
    "<hr>"
   ]
  },
  {
   "cell_type": "markdown",
   "id": "fatty-spank",
   "metadata": {},
   "source": [
    "$\\begin{eqnarray}\n",
    "L \\frac{d}{dt} \\tilde{i_L} (t) &=& V_{in}\\tilde{d}(t) + \\tilde{v_{in}}(t)D + V_C \\tilde{d}(t) - \\tilde{v_C}(t)D'  \\\\[0.5em]\n",
    "L \\left[s \\tilde{I_L}(s) - \\tilde{i_L}(0) \\right] &=& V_{in}\\tilde{d}(s) + \\tilde{v_{in}}(s)D + V_C \\tilde{d}(s) - \\tilde{v_C}(s)D' \\\\[0.5em]\n",
    "\\text{control:} && \\text{ apply } \\tilde{i_L}(0) =0 \\text{ and } \\tilde{I_L}(s) = \\langle i_L \\rangle_{Ts} \\\\[0.5em]\n",
    "sL \\ \\tilde{i_L}(s) &=& V_{in}\\tilde{d}(s) + \\tilde{v_{in}}(s)D + V_C \\tilde{d}(s) - \\tilde{v_C}(s)D'  \\\\[0.5em]\n",
    "\\end{eqnarray}$\n",
    "\n",
    "<hr>"
   ]
  },
  {
   "cell_type": "markdown",
   "id": "desirable-backing",
   "metadata": {},
   "source": [
    "$\\begin{eqnarray}\n",
    "C \\frac{d}{dt} \\tilde{v_C}(t) &=& \\frac{-\\tilde{v_C}(t)}{R} - I_L \\tilde{d}(t) + \\tilde{i_L}(t)D' \\\\[0.5em]\n",
    "sC \\ \\tilde{v_{C}}(s) &=& \\frac{-\\tilde{v_C}(s)}{R} - I_L \\tilde{d}(s) + \\tilde{i_L}(s)D' \\\\[0.5em]\n",
    "\\end{eqnarray}$\n",
    "\n",
    "<hr>"
   ]
  },
  {
   "cell_type": "markdown",
   "id": "humanitarian-sense",
   "metadata": {},
   "source": [
    "Want to find $\\frac{\\tilde{i_L}}{\\tilde{d}}, \\frac{\\tilde{v_c}}{\\tilde{d}}$"
   ]
  },
  {
   "cell_type": "markdown",
   "id": "outer-pharmaceutical",
   "metadata": {},
   "source": [
    "Set $\\tilde{v_{in}}=0$\n",
    "\n",
    "$\\begin{eqnarray}\n",
    "sL \\ \\tilde{i_L}(s) &=& V_{in}\\tilde{d}(s) + \\tilde{v_{in}}(s)D + V_C \\tilde{d}(s) - \\tilde{v_C}(s)D'  \\\\[0.5em]\n",
    "\\left(sC+\\frac{1}{R} \\right) \\ \\tilde{v_{C}}(s) &=& -I_L \\tilde{d}(s) + \\tilde{i_L}(s)D' \\\\[0.5em]\n",
    "\\end{eqnarray}$"
   ]
  },
  {
   "cell_type": "markdown",
   "id": "contrary-opposition",
   "metadata": {},
   "source": [
    "Find $\\frac{\\tilde{i_{L}}(s)}{\\tilde{d}(s)}$\n",
    "\n",
    "$\\begin{eqnarray}\n",
    "\\tilde{v_{C}}(s) &=& \\frac{\\tilde{i_L}(s)D'-I_L \\tilde{d}(s) }{\\left(sC+\\frac{1}{R} \\right)} \\\\[0.5em]\n",
    "sL \\ \\tilde{i_L}(s) &=& \\left(V_{in}+V_C \\right)\\tilde{d}(s) - \\tilde{v_C}(s)D'  \\\\[0.5em]\n",
    "sL \\ \\tilde{i_L}(s) &=& \\left(V_{in}+V_C \\right)\\tilde{d}(s) - D'\\frac{\\tilde{i_L}(s)D'-I_L \\tilde{d}(s) }{sC+\\frac{1}{R} }  \\\\[0.5em]\n",
    "sL \\ \\tilde{i_L}(s) &=& \\left(V_{in}+V_C \\right)\\tilde{d}(s) - \\frac{\\tilde{i_L}(s)D'^2}{sC+\\frac{1}{R} } + \\frac{D'I_L \\tilde{d}(s) }{sC+\\frac{1}{R} } \\\\[0.5em]\n",
    "\\left(sL +\\frac{\\tilde{i_L}(s)D'^2}{sC+\\frac{1}{R} } \\right)\\ \\tilde{i_L}(s) &=& \\left(V_{in}+V_C \\right)\\tilde{d}(s) + \\frac{D'I_L }{sC+\\frac{1}{R}}\\tilde{d}(s) \\\\[0.5em]\n",
    "\\therefore \\frac{\\tilde{i_L}(s)}{\\tilde{d}(s)} &=& \\frac{(V_{in}+V_C)(sC+\\frac{1}{R})+D'I_L}{s^2\\ LC + \\frac{sL}{R}+ D'^2}\n",
    "\\end{eqnarray}$"
   ]
  },
  {
   "cell_type": "markdown",
   "id": "expensive-medium",
   "metadata": {},
   "source": [
    "Similarly find $\\frac{\\tilde{v_{C}}(s)}{\\tilde{d}(s)}$ ..."
   ]
  },
  {
   "cell_type": "code",
   "execution_count": null,
   "id": "creative-census",
   "metadata": {},
   "outputs": [],
   "source": []
  }
 ],
 "metadata": {
  "kernelspec": {
   "display_name": "Python 3 (ipykernel)",
   "language": "python",
   "name": "python3"
  },
  "language_info": {
   "codemirror_mode": {
    "name": "ipython",
    "version": 3
   },
   "file_extension": ".py",
   "mimetype": "text/x-python",
   "name": "python",
   "nbconvert_exporter": "python",
   "pygments_lexer": "ipython3",
   "version": "3.7.9"
  },
  "varInspector": {
   "cols": {
    "lenName": 16,
    "lenType": 16,
    "lenVar": 40
   },
   "kernels_config": {
    "python": {
     "delete_cmd_postfix": "",
     "delete_cmd_prefix": "del ",
     "library": "var_list.py",
     "varRefreshCmd": "print(var_dic_list())"
    },
    "r": {
     "delete_cmd_postfix": ") ",
     "delete_cmd_prefix": "rm(",
     "library": "var_list.r",
     "varRefreshCmd": "cat(var_dic_list()) "
    }
   },
   "types_to_exclude": [
    "module",
    "function",
    "builtin_function_or_method",
    "instance",
    "_Feature"
   ],
   "window_display": false
  }
 },
 "nbformat": 4,
 "nbformat_minor": 5
}
