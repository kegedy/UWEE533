{
 "cells": [
  {
   "cell_type": "markdown",
   "id": "special-producer",
   "metadata": {},
   "source": [
    "**Digital Controller Design**\n",
    "\n",
    "Goal: Find number of quantization bits and maximum frequency of the buck converter\n",
    "\n",
    "Given:\n",
    "- Controller frequency $f_{clk}$ = 1MHz. \n",
    "- As the designer, I choose a quantization resolution of 1%\n",
    "- $N_r$ is the number of discrete levels where $N_r \\leq 2^{N_{pwm}}-1$\n",
    "\n",
    "Solve # of bits:\n",
    "- $q = \\frac{1}{N_r}$ and $q = 0.01$\n",
    "- Then $N_r = \\frac{1}{0.01} = 100$ \n",
    "- $100 \\leq 2^{N_{pwm}}-1$\n",
    "- Thus $N_{pwm} = 7$ bits\n",
    "\n",
    "Solve max switching frequency of converter ($f_{sw}$):\n",
    "- $\\frac{1}{N_r} = \\frac{t_{clk}}{T_{sw}} = \\frac{f_{sw}}{f_{clk}}$\n",
    "- Then $f_{sw} = \\frac{f_{clk}}{N_r}$ \n",
    "- This is true however we are constrained to use an exact number of bits so redefine $f_{sw}$\n",
    "- $f_{sw} = \\frac{f_{clk}}{2^{N_{pwm}}} = \\frac{1MHz}{2^7} \\approx 7.8$ kHz \n",
    "\n",
    "Given $V_{in}=24V$, what is the output voltage resolution?\n",
    "- $V_0 = D \\cdot V_{in}$\n",
    "- $\\Delta V_0 = \\Delta D \\cdot V_{in}$\n",
    "- $\\Delta V_0 = q \\cdot V_{in}$\n",
    "- $\\Delta V_0 = 0.01 \\cdot 24 = 0.24V$\n",
    "\n",
    "<hr>"
   ]
  },
  {
   "cell_type": "code",
   "execution_count": null,
   "id": "scenic-reporter",
   "metadata": {},
   "outputs": [],
   "source": []
  }
 ],
 "metadata": {
  "kernelspec": {
   "display_name": "Python 3",
   "language": "python",
   "name": "python3"
  },
  "language_info": {
   "codemirror_mode": {
    "name": "ipython",
    "version": 3
   },
   "file_extension": ".py",
   "mimetype": "text/x-python",
   "name": "python",
   "nbconvert_exporter": "python",
   "pygments_lexer": "ipython3",
   "version": "3.7.9"
  },
  "varInspector": {
   "cols": {
    "lenName": 16,
    "lenType": 16,
    "lenVar": 40
   },
   "kernels_config": {
    "python": {
     "delete_cmd_postfix": "",
     "delete_cmd_prefix": "del ",
     "library": "var_list.py",
     "varRefreshCmd": "print(var_dic_list())"
    },
    "r": {
     "delete_cmd_postfix": ") ",
     "delete_cmd_prefix": "rm(",
     "library": "var_list.r",
     "varRefreshCmd": "cat(var_dic_list()) "
    }
   },
   "types_to_exclude": [
    "module",
    "function",
    "builtin_function_or_method",
    "instance",
    "_Feature"
   ],
   "window_display": false
  }
 },
 "nbformat": 4,
 "nbformat_minor": 5
}
