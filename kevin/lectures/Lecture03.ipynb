{
 "cells": [
  {
   "cell_type": "markdown",
   "id": "focal-validation",
   "metadata": {},
   "source": [
    "**Mode 1**\n",
    "\n",
    "$\\begin{eqnarray}\n",
    "v_L &=& L \\frac{di_L}{dt} = V_{in} \\\\[0.5em]\n",
    "0 &=& i_C  + \\frac{v_C}{R} \\\\[0.5em]\n",
    "0 &=& C \\frac{dv_C}{dt} + \\frac{v_C}{R} \\\\[0.5em]\n",
    "\\therefore && C \\frac{dv_C}{dt} = -\\frac{v_C}{R}\n",
    "\\end{eqnarray}$"
   ]
  },
  {
   "cell_type": "markdown",
   "id": "extra-canvas",
   "metadata": {},
   "source": [
    "**Mode 2**"
   ]
  },
  {
   "cell_type": "markdown",
   "id": "standard-aerospace",
   "metadata": {},
   "source": [
    "$\\begin{eqnarray}\n",
    "v_L &=& L\\frac{di_L}{dt} = -v_C \\\\[0.5em]\n",
    "i_L &=& i_C + \\frac{v_C}{R} \\\\[0.5em]\n",
    "\\therefore && C \\frac{dv_C}{dt} = -\\frac{v_C}{R} + i_L \\\\[0.5em]\n",
    "\\end{eqnarray}$\n",
    "\n",
    "<hr>"
   ]
  },
  {
   "cell_type": "markdown",
   "id": "boring-freeware",
   "metadata": {},
   "source": [
    "$\\begin{eqnarray}\n",
    "\\langle x(t)\\rangle_{Ts} &=& \\int_{t}^{t+T_s} x(\\tau)  \\,d \\tau \\\\[0.5em]\n",
    "0 &=& (V_{in})D + (-V_c) D' \\\\[0.5em]\n",
    "0 &=& (-\\frac{v_C}{R})D +  (-\\frac{v_C}{R} + I_L)D'\n",
    "\\end{eqnarray}$\n",
    "\n",
    "<hr>"
   ]
  },
  {
   "cell_type": "markdown",
   "id": "severe-alliance",
   "metadata": {},
   "source": [
    "$\\begin{eqnarray}\n",
    "\\langle v_L(t)\\rangle_{Ts} &=& L\\frac{d}{dt}\\langle i_L (t) \\rangle_{Ts} = [ v_L \\text{ during mode 1}] \\ d(t)  + [ v_L \\text{ during mode 2}] \\ d'(t) \\\\[0.5em]\n",
    "&=& \\langle v_{in}(t)\\rangle_{Ts}\\ d(t) + \\langle -v_{C}(t)\\rangle_{Ts}\\ d'(t) \\\\[0.5em]\n",
    "&=& \\langle v_{in}(t)\\rangle_{Ts}\\ d(t) - \\langle v_{C}(t)\\rangle_{Ts}\\ d'(t) \\\\[0.5em]\n",
    "\\langle i_C(t)\\rangle_{Ts} &=& C \\frac{d}{dt} \\langle v_C (t) \\rangle_{Ts} = [ i_C \\text{ during mode 1}] \\ d(t)  + [ i_C \\text{ during mode 2}] \\ d'(t) \\\\[0.5em]\n",
    "&=& \\left(\\frac{\\langle v_{C}(t)\\rangle_{Ts}}{R}\\right) d(t) + \\left(- \\frac{\\langle v_{C}(t)\\rangle_{Ts}}{R}  + \\langle i_L (t) \\rangle_{Ts} \\right) d'(t) \\\\[0.5em]\n",
    "\\end{eqnarray}$\n",
    "\n",
    "<hr>"
   ]
  },
  {
   "cell_type": "markdown",
   "id": "casual-batman",
   "metadata": {},
   "source": [
    "**Buck Converter**"
   ]
  },
  {
   "cell_type": "markdown",
   "id": "polar-dallas",
   "metadata": {},
   "source": [
    "$\\begin{eqnarray}\n",
    "\\langle i_L (t) \\rangle_{Ts} &=& I_L + \\tilde{i_L}(t) \\\\[0.5em]\n",
    "\\langle v_{C}(t)\\rangle_{Ts} &=& V_C + \\tilde{v_C}(t) \\\\[0.5em]\n",
    "d(t) &=& D + \\tilde{d}(t) \\\\[0.5em]\n",
    "\\end{eqnarray}$\n",
    "\n",
    "<hr>"
   ]
  },
  {
   "cell_type": "markdown",
   "id": "tamil-brisbane",
   "metadata": {},
   "source": [
    "ama"
   ]
  },
  {
   "cell_type": "code",
   "execution_count": null,
   "id": "double-departure",
   "metadata": {},
   "outputs": [],
   "source": []
  }
 ],
 "metadata": {
  "kernelspec": {
   "display_name": "Python 3",
   "language": "python",
   "name": "python3"
  },
  "language_info": {
   "codemirror_mode": {
    "name": "ipython",
    "version": 3
   },
   "file_extension": ".py",
   "mimetype": "text/x-python",
   "name": "python",
   "nbconvert_exporter": "python",
   "pygments_lexer": "ipython3",
   "version": "3.7.9"
  },
  "varInspector": {
   "cols": {
    "lenName": 16,
    "lenType": 16,
    "lenVar": 40
   },
   "kernels_config": {
    "python": {
     "delete_cmd_postfix": "",
     "delete_cmd_prefix": "del ",
     "library": "var_list.py",
     "varRefreshCmd": "print(var_dic_list())"
    },
    "r": {
     "delete_cmd_postfix": ") ",
     "delete_cmd_prefix": "rm(",
     "library": "var_list.r",
     "varRefreshCmd": "cat(var_dic_list()) "
    }
   },
   "types_to_exclude": [
    "module",
    "function",
    "builtin_function_or_method",
    "instance",
    "_Feature"
   ],
   "window_display": false
  }
 },
 "nbformat": 4,
 "nbformat_minor": 5
}
