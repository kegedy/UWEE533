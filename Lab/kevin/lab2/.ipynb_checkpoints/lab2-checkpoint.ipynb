{
 "cells": [
  {
   "cell_type": "code",
   "execution_count": 1,
   "id": "14b4246a",
   "metadata": {},
   "outputs": [],
   "source": [
    "# Imports\n",
    "import os\n",
    "import sys\n",
    "import cmath\n",
    "import math\n",
    "import matplotlib.pyplot as plt\n",
    "import matplotlib\n",
    "import numpy as np\n",
    "import pandas as pd\n",
    "import sympy as sp\n",
    "from sympy.utilities.lambdify import lambdify\n",
    "from scipy import signal\n",
    "%matplotlib inline\n",
    "from IPython.core.interactiveshell import InteractiveShell\n",
    "InteractiveShell.ast_node_interactivity = \"all\"\n",
    "from matplotlib.ticker import LogLocator\n",
    "import control"
   ]
  },
  {
   "cell_type": "markdown",
   "id": "c03a2707",
   "metadata": {},
   "source": [
    "### Large Signal"
   ]
  },
  {
   "cell_type": "code",
   "execution_count": 2,
   "id": "55189145",
   "metadata": {},
   "outputs": [
    {
     "data": {
      "text/plain": [
       "47.999722856451825"
      ]
     },
     "execution_count": 2,
     "metadata": {},
     "output_type": "execute_result"
    }
   ],
   "source": [
    "Vg = 24\n",
    "RL = 60e-3\n",
    "R = 100\n",
    "Dp = 0.4988\n",
    "# V\n",
    "(Vg/Dp)*1/(1+(RL/(R*Dp**2)))"
   ]
  },
  {
   "cell_type": "code",
   "execution_count": 3,
   "id": "a1e9bf64",
   "metadata": {},
   "outputs": [
    {
     "data": {
      "text/plain": [
       "0.9623039866971096"
      ]
     },
     "execution_count": 3,
     "metadata": {},
     "output_type": "execute_result"
    }
   ],
   "source": [
    "# I\n",
    "(Vg/(R*Dp**2))*1/(1+(RL/(R*Dp**2)))"
   ]
  },
  {
   "cell_type": "code",
   "execution_count": 4,
   "id": "689ed94e",
   "metadata": {},
   "outputs": [
    {
     "name": "stdout",
     "output_type": "stream",
     "text": [
      "Output Voltage Resolution: 0.0191 V\n",
      "Smallest Duty Cycle: 0.0002 = 0.02%\n",
      "Sensing Voltage Resolution: 0.0117V\n"
     ]
    }
   ],
   "source": [
    "fclk = 100e6 # 100 MHz clk\n",
    "fsw = 10e3 # 10 kHz switching\n",
    "Nr = fclk/(2*fsw)\n",
    "\n",
    "Dp = 0.5\n",
    "f0 = (Vg/Dp)*1/(1+(RL/(R*Dp**2)))\n",
    "\n",
    "q = 1/Nr\n",
    "Dp = 0.5-q\n",
    "f1 = (Vg/Dp)*1/(1+(RL/(R*Dp**2)))\n",
    "\n",
    "print(f'Output Voltage Resolution: {round(abs(f0-f1),4)} V')\n",
    "print(f'Smallest Duty Cycle: {q} = {q*100}%')\n",
    "print(f'Sensing Voltage Resolution: {round(f1/2**12,4)}V')"
   ]
  },
  {
   "cell_type": "markdown",
   "id": "f83f6805",
   "metadata": {},
   "source": [
    "### Small Signal"
   ]
  },
  {
   "cell_type": "code",
   "execution_count": 5,
   "id": "34812da4",
   "metadata": {},
   "outputs": [],
   "source": [
    "s,n,R_L,R,L,C,D,Dp,V_g = sp.symbols(\"s,n,R_L,R,L,C,D,D',V_g\")"
   ]
  },
  {
   "cell_type": "code",
   "execution_count": 6,
   "id": "f74f7d1d",
   "metadata": {},
   "outputs": [],
   "source": [
    "A = sp.Matrix([\n",
    "    [-R_L/L, -Dp/L],\n",
    "    [Dp/C, -1/(R*C)]\n",
    "])"
   ]
  },
  {
   "cell_type": "code",
   "execution_count": 7,
   "id": "cc6a7577",
   "metadata": {},
   "outputs": [],
   "source": [
    "B = sp.Matrix([\n",
    "    [(V_g/(Dp*L))*(1/(1+(R_L/(Dp**2*R)))), 1/L],\n",
    "    [(-V_g/(Dp**2*R*C))*(1/(1+(R_L/(Dp**2*R)))), 0]\n",
    "])"
   ]
  },
  {
   "cell_type": "code",
   "execution_count": 8,
   "id": "81d609b6",
   "metadata": {},
   "outputs": [],
   "source": [
    "C = sp.eye(2)\n",
    "E = sp.Matrix([[0, 0],[0, 0]])\n",
    "I = sp.eye(2)"
   ]
  },
  {
   "cell_type": "code",
   "execution_count": 9,
   "id": "f0a22bb8",
   "metadata": {},
   "outputs": [],
   "source": [
    "tf = C*(s*I-A).inv()*B+E"
   ]
  },
  {
   "cell_type": "code",
   "execution_count": 10,
   "id": "2e571979",
   "metadata": {},
   "outputs": [],
   "source": [
    "H = sp.Matrix(tf)"
   ]
  },
  {
   "cell_type": "code",
   "execution_count": 11,
   "id": "4214e0cc",
   "metadata": {},
   "outputs": [
    {
     "data": {
      "text/latex": [
       "$\\displaystyle \\left[\\begin{matrix}\\frac{D' R V_{g} \\left(C R s + 2\\right)}{\\left(D'^{2} R + R_{L}\\right) \\left(C L R s^{2} + C R R_{L} s + D'^{2} R + L s + R_{L}\\right)} & \\frac{C R s + 1}{C L R s^{2} + C R R_{L} s + D'^{2} R + L s + R_{L}}\\\\\\frac{R V_{g} \\left(D'^{2} R - L s - R_{L}\\right)}{\\left(D'^{2} R + R_{L}\\right) \\left(C L R s^{2} + C R R_{L} s + D'^{2} R + L s + R_{L}\\right)} & \\frac{D' R}{C L R s^{2} + C R R_{L} s + D'^{2} R + L s + R_{L}}\\end{matrix}\\right]$"
      ],
      "text/plain": [
       "Matrix([\n",
       "[       D'*R*V_g*(C*R*s + 2)/((D'**2*R + R_L)*(C*L*R*s**2 + C*R*R_L*s + D'**2*R + L*s + R_L)), (C*R*s + 1)/(C*L*R*s**2 + C*R*R_L*s + D'**2*R + L*s + R_L)],\n",
       "[R*V_g*(D'**2*R - L*s - R_L)/((D'**2*R + R_L)*(C*L*R*s**2 + C*R*R_L*s + D'**2*R + L*s + R_L)),        D'*R/(C*L*R*s**2 + C*R*R_L*s + D'**2*R + L*s + R_L)]])"
      ]
     },
     "execution_count": 11,
     "metadata": {},
     "output_type": "execute_result"
    }
   ],
   "source": [
    "sp.simplify(H)"
   ]
  },
  {
   "cell_type": "code",
   "execution_count": 12,
   "id": "3e8696aa",
   "metadata": {},
   "outputs": [
    {
     "data": {
      "text/latex": [
       "$\\displaystyle \\frac{D'^{2} R - L s - R_{L}}{D' \\left(C R s + 2\\right)}$"
      ],
      "text/plain": [
       "(D'**2*R - L*s - R_L)/(D'*(C*R*s + 2))"
      ]
     },
     "execution_count": 12,
     "metadata": {},
     "output_type": "execute_result"
    }
   ],
   "source": [
    "sp.simplify(H[2]/H[0]) "
   ]
  },
  {
   "cell_type": "code",
   "execution_count": 13,
   "id": "39728771",
   "metadata": {},
   "outputs": [],
   "source": [
    "system = {\n",
    "    'R_L':60e-3,\n",
    "    'R'  :100,\n",
    "    'L'  :0.2e-3,\n",
    "    'C'  :2200e-6,\n",
    "    \"D'\"  :0.4988,\n",
    "    'V_g' :24\n",
    "}\n",
    "H0 = H[0].subs(system)\n",
    "H1 = H[1].subs(system)\n",
    "H2 = H[2].subs(system)\n",
    "H3 = H[3].subs(system)"
   ]
  },
  {
   "cell_type": "code",
   "execution_count": 14,
   "id": "6dcd36a9",
   "metadata": {},
   "outputs": [
    {
     "data": {
      "text/latex": [
       "$\\displaystyle \\frac{10.5599390284194 s + 95.9994457129037}{4.4 \\cdot 10^{-5} s^{2} + 0.0134 s + 24.940144}$"
      ],
      "text/plain": [
       "(10.5599390284194*s + 95.9994457129037)/(4.4e-5*s**2 + 0.0134*s + 24.940144)"
      ]
     },
     "execution_count": 14,
     "metadata": {},
     "output_type": "execute_result"
    },
    {
     "data": {
      "text/latex": [
       "$\\displaystyle \\frac{0.22 s + 1.0}{4.4 \\cdot 10^{-5} s^{2} + 0.0134 s + 24.940144}$"
      ],
      "text/plain": [
       "(0.22*s + 1.0)/(4.4e-5*s**2 + 0.0134*s + 24.940144)"
      ]
     },
     "execution_count": 14,
     "metadata": {},
     "output_type": "execute_result"
    },
    {
     "data": {
      "text/latex": [
       "$\\displaystyle \\frac{2388.45235215963 - 0.0192460797339422 s}{4.4 \\cdot 10^{-5} s^{2} + 0.0134 s + 24.940144}$"
      ],
      "text/plain": [
       "(2388.45235215963 - 0.0192460797339422*s)/(4.4e-5*s**2 + 0.0134*s + 24.940144)"
      ]
     },
     "execution_count": 14,
     "metadata": {},
     "output_type": "execute_result"
    },
    {
     "data": {
      "text/latex": [
       "$\\displaystyle \\frac{49.88}{4.4 \\cdot 10^{-5} s^{2} + 0.0134 s + 24.940144}$"
      ],
      "text/plain": [
       "49.88/(4.4e-5*s**2 + 0.0134*s + 24.940144)"
      ]
     },
     "execution_count": 14,
     "metadata": {},
     "output_type": "execute_result"
    }
   ],
   "source": [
    "sp.simplify(H0)\n",
    "sp.simplify(H1)\n",
    "sp.simplify(H2)\n",
    "sp.simplify(H3)"
   ]
  },
  {
   "cell_type": "code",
   "execution_count": 15,
   "id": "54261091",
   "metadata": {
    "scrolled": true
   },
   "outputs": [
    {
     "data": {
      "text/latex": [
       "$\\displaystyle \\frac{2388.45235215963 - 0.0192460797339422 s}{10.5599390284194 s + 95.9994457129037}$"
      ],
      "text/plain": [
       "(2388.45235215963 - 0.0192460797339422*s)/(10.5599390284194*s + 95.9994457129037)"
      ]
     },
     "execution_count": 15,
     "metadata": {},
     "output_type": "execute_result"
    }
   ],
   "source": [
    "sp.simplify((H[2]/H[0]).subs(system))"
   ]
  },
  {
   "cell_type": "markdown",
   "id": "f8b9d5b5",
   "metadata": {},
   "source": [
    "### gain, zero, pole"
   ]
  },
  {
   "cell_type": "code",
   "execution_count": 16,
   "id": "25ab2e2a",
   "metadata": {},
   "outputs": [],
   "source": [
    "s  = control.TransferFunction.s"
   ]
  },
  {
   "cell_type": "code",
   "execution_count": 17,
   "id": "1596d7cc",
   "metadata": {
    "scrolled": true
   },
   "outputs": [
    {
     "data": {
      "text/plain": [
       "array(3.84919373)"
      ]
     },
     "execution_count": 17,
     "metadata": {},
     "output_type": "execute_result"
    },
    {
     "data": {
      "text/plain": [
       "array([-9.09090914])"
      ]
     },
     "execution_count": 17,
     "metadata": {},
     "output_type": "execute_result"
    },
    {
     "data": {
      "text/plain": [
       "array([-152.27272727+737.31572008j, -152.27272727-737.31572008j])"
      ]
     },
     "execution_count": 17,
     "metadata": {},
     "output_type": "execute_result"
    }
   ],
   "source": [
    "Gid =  (10.559939*s+95.999446)/(4.4e-5*s**2+0.0134*s+24.940144)\n",
    "Gid.dcgain()\n",
    "Gid.zero()\n",
    "Gid.pole()"
   ]
  },
  {
   "cell_type": "code",
   "execution_count": 18,
   "id": "03e8bbb1",
   "metadata": {},
   "outputs": [
    {
     "data": {
      "text/plain": [
       "array(95.76738418)"
      ]
     },
     "execution_count": 18,
     "metadata": {},
     "output_type": "execute_result"
    },
    {
     "data": {
      "text/plain": [
       "array([124101.23412657])"
      ]
     },
     "execution_count": 18,
     "metadata": {},
     "output_type": "execute_result"
    },
    {
     "data": {
      "text/plain": [
       "array([-152.27272727+737.31572008j, -152.27272727-737.31572008j])"
      ]
     },
     "execution_count": 18,
     "metadata": {},
     "output_type": "execute_result"
    }
   ],
   "source": [
    "Gvd = (2388.452352-0.019246*s)/(4.4e-5*s**2+0.0134*s+24.940144)\n",
    "Gvd.dcgain()\n",
    "Gvd.zero()\n",
    "Gvd.pole()"
   ]
  },
  {
   "cell_type": "code",
   "execution_count": 19,
   "id": "699b0a77",
   "metadata": {},
   "outputs": [
    {
     "data": {
      "text/plain": [
       "array(24.87985558)"
      ]
     },
     "execution_count": 19,
     "metadata": {},
     "output_type": "execute_result"
    },
    {
     "data": {
      "text/plain": [
       "array([124101.23412657])"
      ]
     },
     "execution_count": 19,
     "metadata": {},
     "output_type": "execute_result"
    },
    {
     "data": {
      "text/plain": [
       "array([-9.09090914])"
      ]
     },
     "execution_count": 19,
     "metadata": {},
     "output_type": "execute_result"
    }
   ],
   "source": [
    "Gvi = (2388.452352-0.019246*s)/(10.559939*s+95.999446)\n",
    "Gvi.dcgain()\n",
    "Gvi.zero()\n",
    "Gvi.pole()"
   ]
  },
  {
   "cell_type": "markdown",
   "id": "312ba5f2",
   "metadata": {},
   "source": [
    "### gm, pm, wg, wp"
   ]
  },
  {
   "cell_type": "code",
   "execution_count": 20,
   "id": "b1637289",
   "metadata": {},
   "outputs": [
    {
     "data": {
      "text/plain": [
       "(inf, 92.1992, nan, 225.9981)"
      ]
     },
     "execution_count": 20,
     "metadata": {},
     "output_type": "execute_result"
    }
   ],
   "source": [
    "gm, pm, wg, wp = control.margin(Gvi)\n",
    "gm, round(pm,4), wg, round(wp,4)"
   ]
  },
  {
   "cell_type": "markdown",
   "id": "29685937",
   "metadata": {},
   "source": [
    "### Design"
   ]
  },
  {
   "cell_type": "code",
   "execution_count": 21,
   "id": "5c339161",
   "metadata": {},
   "outputs": [],
   "source": [
    "# fci < (fsw/10 = 10kHz/10 = 1kHz)\n",
    "# PI Controller: kp + ki/s = (kp*s+ki)/s = (s/a + ki)/s\n",
    "# Kp = 1/a\n",
    "\n"
   ]
  },
  {
   "cell_type": "code",
   "execution_count": 55,
   "id": "6a2fe0ea",
   "metadata": {},
   "outputs": [],
   "source": [
    "s,n,R_L,R,L,C,D,Dp,V_g = sp.symbols(\"s,n,R_L,R,L,C,D,D',V_g\")"
   ]
  },
  {
   "cell_type": "code",
   "execution_count": 56,
   "id": "cf88ec08",
   "metadata": {},
   "outputs": [],
   "source": [
    "A = sp.Matrix([\n",
    "    [-R_L/L, -Dp/L],\n",
    "    [Dp/C, -1/(R*C)]\n",
    "])"
   ]
  },
  {
   "cell_type": "code",
   "execution_count": 57,
   "id": "d6ce5017",
   "metadata": {},
   "outputs": [],
   "source": [
    "B = sp.Matrix([\n",
    "    [(V_g/(Dp*L))*(1/(1+(R_L/(Dp**2*R)))), 1/L],\n",
    "    [(-V_g/(Dp**2*R*C))*(1/(1+(R_L/(Dp**2*R)))), 0]\n",
    "])"
   ]
  },
  {
   "cell_type": "code",
   "execution_count": 58,
   "id": "c4fe4160",
   "metadata": {},
   "outputs": [],
   "source": [
    "C = sp.eye(2)\n",
    "E = sp.Matrix([[0, 0],[0, 0]])\n",
    "I = sp.eye(2)"
   ]
  },
  {
   "cell_type": "code",
   "execution_count": 59,
   "id": "97b80b89",
   "metadata": {},
   "outputs": [],
   "source": [
    "tf = C*(s*I-A).inv()*B+E"
   ]
  },
  {
   "cell_type": "code",
   "execution_count": 60,
   "id": "cefcd211",
   "metadata": {},
   "outputs": [],
   "source": [
    "H = sp.Matrix(tf)"
   ]
  },
  {
   "cell_type": "code",
   "execution_count": 61,
   "id": "c8d2c41a",
   "metadata": {},
   "outputs": [],
   "source": [
    "f = np.logspace(0, 5, 10000)\n",
    "w = 2*np.pi*f"
   ]
  },
  {
   "cell_type": "code",
   "execution_count": 85,
   "id": "09367d72",
   "metadata": {},
   "outputs": [],
   "source": [
    "alpha = 10\n",
    "kp = 1/alpha\n",
    "ki = 1000\n",
    "Gci = lambdify(s,(kp*s+ki)/s,modules='numpy')\n",
    "Gci = Gci(1j*w)\n",
    "Gci_pole = lambdify(s,ki/s,modules='numpy')\n",
    "Gci_pole = Gci_pole(1j*w)"
   ]
  },
  {
   "cell_type": "code",
   "execution_count": 86,
   "id": "a73a9f00",
   "metadata": {},
   "outputs": [
    {
     "data": {
      "image/png": "[encoded data removed]",
      "text/plain": [
       "<Figure size 720x720 with 2 Axes>"
      ]
     },
     "metadata": {
      "needs_background": "light"
     },
     "output_type": "display_data"
    }
   ],
   "source": [
    "fig, ax = plt.subplots(2,1,figsize=(10,10))\n",
    "fsw = 10e3\n",
    "\n",
    "ax[0].set_title('Boost Converter Response: $G_{ci}(s)$')\n",
    "ax[0].semilogx(f,20*np.log10(abs(Gci)),label='$G_{ci}(s)$')\n",
    "ax[0].semilogx(f,20*np.log10(kp)*np.ones(len(f)),label='kp',linestyle='--')\n",
    "ax[0].semilogx(f,20*np.log10(abs(Gci_pole)),label='ki',linestyle='--')\n",
    "ax[0].set_xlim([1,fsw])\n",
    "ax[0].set_ylabel('Magnitude [dB]')\n",
    "ax[0].grid(which='both', axis='both')\n",
    "ax[0].legend()\n",
    "\n",
    "ax[1].semilogx(f,np.angle(Gci,deg=True),label='$G_{ci}(s)$')\n",
    "ax[1].semilogx(f,np.angle(kp*np.ones(len(f)),deg=True),label='kp')\n",
    "ax[1].semilogx(f,np.angle(Gci_pole,deg=True),label='ki')\n",
    "ax[1].set_xlim([1,fsw])\n",
    "ax[1].set_ylabel('Phase [degrees]')\n",
    "ax[1].set_xlabel('Frequency [Hz]')\n",
    "ax[1].grid(which='both', axis='both')\n",
    "ax[1].legend()\n",
    "plt.show();"
   ]
  },
  {
   "cell_type": "markdown",
   "id": "9deb8921",
   "metadata": {},
   "source": [
    "### Gid"
   ]
  },
  {
   "cell_type": "code",
   "execution_count": null,
   "id": "e35213db",
   "metadata": {},
   "outputs": [],
   "source": [
    "H0 = lambdify(s,H0,modules='numpy')\n",
    "H0 = H0(1j*w)"
   ]
  },
  {
   "cell_type": "code",
   "execution_count": null,
   "id": "b79eaa5a",
   "metadata": {},
   "outputs": [],
   "source": [
    "H0_zero = lambdify(s,s+9.09,modules='numpy')\n",
    "H0_zero = H0_zero(1j*w)"
   ]
  },
  {
   "cell_type": "code",
   "execution_count": null,
   "id": "7b11b2be",
   "metadata": {},
   "outputs": [],
   "source": [
    "H0_pole0 = lambdify(s,1/(s+(152.27-737.31j)),modules='numpy')\n",
    "H0_pole0 = H0_pole0(1j*w)"
   ]
  },
  {
   "cell_type": "code",
   "execution_count": null,
   "id": "a278502f",
   "metadata": {},
   "outputs": [],
   "source": [
    "H0_pole1 = lambdify(s,1/(s+(152.27+737.31j)),modules='numpy')\n",
    "H0_pole1 = H0_pole1(1j*w)"
   ]
  },
  {
   "cell_type": "code",
   "execution_count": null,
   "id": "04987dce",
   "metadata": {
    "scrolled": false
   },
   "outputs": [],
   "source": [
    "fig, ax = plt.subplots(2,1,figsize=(10,10))\n",
    "fsw = 25e3\n",
    "\n",
    "ax[0].set_title('Boost Converter Response: $G_{id}(s)$')\n",
    "ax[0].semilogx(f,20*np.log10(abs(H0)),label='$G_{id}(s)$')\n",
    "ax[0].semilogx(f,20*np.log10(3.8492)*np.ones(len(f)),label='Gain: 4')\n",
    "ax[0].semilogx(f,20*np.log10(abs(H0_zero)),label='Zero: s+9')\n",
    "ax[0].semilogx(f,20*np.log10(abs(H0_pole0)),label='Pole: s+(152-737j)')\n",
    "ax[0].semilogx(f,20*np.log10(abs(H0_pole1)),label='Pole: s+(152+737j)')\n",
    "#ax[0].set_xlim([1,fsw/2])\n",
    "ax[0].set_ylabel('Magnitude [dB]')\n",
    "ax[0].grid(which='both', axis='both')\n",
    "ax[0].legend()\n",
    "\n",
    "ax[1].semilogx(f,np.angle(H0,deg=True),label='$G_{id}(s)$')\n",
    "ax[1].semilogx(f,np.angle(3.8492*np.ones(len(f)),deg=True),label='Gain: 4')\n",
    "ax[1].semilogx(f,np.angle(H0_zero,deg=True),label='Zero: s+9',alpha=0.75)\n",
    "ax[1].semilogx(f,np.angle(H0_pole0,deg=True),label='Pole: s+(152-737j)',alpha=0.75)\n",
    "ax[1].semilogx(f,np.angle(H0_pole1,deg=True),label='Pole: s+(152+737j)')\n",
    "#ax[1].set_xlim([1,fsw/2])\n",
    "ax[1].set_ylabel('Phase [degrees]')\n",
    "ax[1].set_xlabel('Frequency [Hz]')\n",
    "ax[1].grid(which='both', axis='both')\n",
    "ax[1].legend()\n",
    "plt.show();"
   ]
  },
  {
   "cell_type": "markdown",
   "id": "635dd047",
   "metadata": {},
   "source": [
    "### Gvd"
   ]
  },
  {
   "cell_type": "code",
   "execution_count": null,
   "id": "02661b0c",
   "metadata": {},
   "outputs": [],
   "source": [
    "H = sp.Matrix(tf)"
   ]
  },
  {
   "cell_type": "code",
   "execution_count": null,
   "id": "d73b8a2e",
   "metadata": {},
   "outputs": [],
   "source": [
    "H2 = lambdify(s,H2,modules='numpy')\n",
    "H2 = H2(1j*w)"
   ]
  },
  {
   "cell_type": "code",
   "execution_count": null,
   "id": "5eeac142",
   "metadata": {},
   "outputs": [],
   "source": [
    "H2_zero = lambdify(s,s-124101.23,modules='numpy')\n",
    "H2_zero = H2_zero(1j*w)"
   ]
  },
  {
   "cell_type": "code",
   "execution_count": null,
   "id": "37e6ed90",
   "metadata": {},
   "outputs": [],
   "source": [
    "H2_pole0 = lambdify(s,1/(s+(152.27-737.31j)),modules='numpy')\n",
    "H2_pole0 = H2_pole0(1j*w)"
   ]
  },
  {
   "cell_type": "code",
   "execution_count": null,
   "id": "35b4acc4",
   "metadata": {},
   "outputs": [],
   "source": [
    "H2_pole1 = lambdify(s,1/(s+(152.27+737.31j)),modules='numpy')\n",
    "H2_pole1 = H2_pole1(1j*w)"
   ]
  },
  {
   "cell_type": "code",
   "execution_count": null,
   "id": "fa513f71",
   "metadata": {
    "scrolled": false
   },
   "outputs": [],
   "source": [
    "fig, ax = plt.subplots(2,1,figsize=(10,10))\n",
    "fsw = 25e3\n",
    "\n",
    "ax[0].set_title('Boost Converter Response: $G_{vd}(s)$')\n",
    "ax[0].semilogx(f,20*np.log10(abs(H2)),label='$G_{vd}(s)$')\n",
    "ax[0].semilogx(f,20*np.log10(95.76738)*np.ones(len(f)),label='Gain: 96',alpha=0.5)\n",
    "ax[0].semilogx(f,20*np.log10(abs(H2_zero)),label='Zero: s-124101')\n",
    "ax[0].semilogx(f,20*np.log10(abs(H2_pole0)),label='Pole: s+(152-737j)')\n",
    "ax[0].semilogx(f,20*np.log10(abs(H2_pole1)),label='Pole: s+(152+737j)')\n",
    "#ax[0].set_xlim([1,fsw/2])\n",
    "ax[0].set_ylabel('Magnitude [dB]')\n",
    "ax[0].grid(which='both', axis='both')\n",
    "ax[0].legend()\n",
    "\n",
    "ax[1].semilogx(f,np.angle(H2,deg=True),label='$G_{vd}(s)$')\n",
    "ax[1].semilogx(f,np.angle(95.76738*np.ones(len(f)),deg=True),label='Gain: 96')\n",
    "ax[1].semilogx(f,np.angle(H2_zero,deg=True),label='Zero: s-124101',alpha=0.75)\n",
    "ax[1].semilogx(f,np.angle(H2_pole0,deg=True),label='Pole: s+(152-737j)',alpha=0.75)\n",
    "ax[1].semilogx(f,np.angle(H2_pole1,deg=True),label='Pole: s+(152+737j)')\n",
    "#ax[1].set_xlim([1,fsw/2])\n",
    "ax[1].set_ylabel('Phase [degrees]')\n",
    "ax[1].set_xlabel('Frequency [Hz]')\n",
    "ax[1].grid(which='both', axis='both')\n",
    "ax[1].legend()\n",
    "plt.show();"
   ]
  },
  {
   "cell_type": "markdown",
   "id": "b8577ddc",
   "metadata": {},
   "source": [
    "### Gvd/Gid"
   ]
  },
  {
   "cell_type": "code",
   "execution_count": null,
   "id": "addf2e7a",
   "metadata": {},
   "outputs": [],
   "source": [
    "s,n,R_L,R,L,C,D,Dp,V_g = sp.symbols(\"s,n,R_L,R,L,C,D,D',V_g\")"
   ]
  },
  {
   "cell_type": "code",
   "execution_count": null,
   "id": "7df31979",
   "metadata": {},
   "outputs": [],
   "source": [
    "H4 = (Dp**2*R-L*s-R_L)/(Dp*(R*C*s+2))"
   ]
  },
  {
   "cell_type": "code",
   "execution_count": null,
   "id": "cd23d5be",
   "metadata": {},
   "outputs": [],
   "source": [
    "system = {\n",
    "    'R_L':60e-3,\n",
    "    'R'  :100,\n",
    "    'L'  :0.2e-3,\n",
    "    'C'  :2200e-6,\n",
    "    \"D'\"  :0.4988,\n",
    "    'V_g' :24\n",
    "}\n",
    "H4 = H4.subs(system)"
   ]
  },
  {
   "cell_type": "code",
   "execution_count": null,
   "id": "29c7244e",
   "metadata": {},
   "outputs": [],
   "source": [
    "H4 = lambdify(s,H4,modules='numpy')\n",
    "H4 = H4(1j*w)"
   ]
  },
  {
   "cell_type": "code",
   "execution_count": null,
   "id": "813ad5bb",
   "metadata": {},
   "outputs": [],
   "source": [
    "H4_zero = lambdify(s,s-124101.23,modules='numpy')\n",
    "H4_zero = H4_zero(1j*w)"
   ]
  },
  {
   "cell_type": "code",
   "execution_count": null,
   "id": "0c83e06a",
   "metadata": {},
   "outputs": [],
   "source": [
    "H4_pole0 = lambdify(s,1/(s+9.0909),modules='numpy')\n",
    "H4_pole0 = H4_pole0(1j*w)"
   ]
  },
  {
   "cell_type": "code",
   "execution_count": null,
   "id": "48e47c81",
   "metadata": {
    "scrolled": false,
    "slideshow": {
     "slide_type": "fragment"
    }
   },
   "outputs": [],
   "source": [
    "fig, ax = plt.subplots(2,1,figsize=(10,10))\n",
    "fsw = 25e3\n",
    "\n",
    "ax[0].set_title('Boost Converter Response: $G_{vi}(s)= G_{vd}(s)/G_{id}(s)$')\n",
    "ax[0].semilogx(f,20*np.log10(abs(H4)),label='$G_{vi}(s)$')\n",
    "ax[0].semilogx(f,20*np.log10(24.87985)*np.ones(len(f)),label='Gain: 25')\n",
    "ax[0].semilogx(f,20*np.log10(abs(H4_zero)),label='Zero: s-124101')\n",
    "ax[0].semilogx(f,20*np.log10(abs(H4_pole0)),label='Pole: s+9')\n",
    "#ax[0].set_xlim([1,fsw/2])\n",
    "ax[0].set_ylabel('Magnitude [dB]')\n",
    "ax[0].grid(which='both', axis='both')\n",
    "ax[0].legend()\n",
    "\n",
    "ax[1].semilogx(f,np.angle(H4,deg=True),label='$G_{vi}(s)$')\n",
    "ax[1].semilogx(f,np.angle(24.87985*np.ones(len(f)),deg=True),label='Gain: 25')\n",
    "ax[1].semilogx(f,np.angle(H4_zero,deg=True),label='Zero: s-124101')\n",
    "ax[1].semilogx(f,np.angle(H4_pole0,deg=True),label='Pole: s+9',alpha=0.5)\n",
    "#ax[1].set_xlim([1,fsw/2])\n",
    "ax[1].set_ylabel('Phase [degrees]')\n",
    "ax[1].set_xlabel('Frequency [Hz]')\n",
    "ax[1].grid(which='both', axis='both')\n",
    "ax[1].legend()\n",
    "plt.show();"
   ]
  },
  {
   "cell_type": "code",
   "execution_count": null,
   "id": "64530314",
   "metadata": {},
   "outputs": [],
   "source": []
  }
 ],
 "metadata": {
  "kernelspec": {
   "display_name": "Python 3 (ipykernel)",
   "language": "python",
   "name": "python3"
  },
  "language_info": {
   "codemirror_mode": {
    "name": "ipython",
    "version": 3
   },
   "file_extension": ".py",
   "mimetype": "text/x-python",
   "name": "python",
   "nbconvert_exporter": "python",
   "pygments_lexer": "ipython3",
   "version": "3.7.9"
  },
  "varInspector": {
   "cols": {
    "lenName": 16,
    "lenType": 16,
    "lenVar": 40
   },
   "kernels_config": {
    "python": {
     "delete_cmd_postfix": "",
     "delete_cmd_prefix": "del ",
     "library": "var_list.py",
     "varRefreshCmd": "print(var_dic_list())"
    },
    "r": {
     "delete_cmd_postfix": ") ",
     "delete_cmd_prefix": "rm(",
     "library": "var_list.r",
     "varRefreshCmd": "cat(var_dic_list()) "
    }
   },
   "types_to_exclude": [
    "module",
    "function",
    "builtin_function_or_method",
    "instance",
    "_Feature"
   ],
   "window_display": false
  }
 },
 "nbformat": 4,
 "nbformat_minor": 5
}
