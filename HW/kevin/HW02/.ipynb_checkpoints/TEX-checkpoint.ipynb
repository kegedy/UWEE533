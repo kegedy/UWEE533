{
 "cells": [
  {
   "cell_type": "markdown",
   "id": "d53348af",
   "metadata": {},
   "source": [
    "$\\begin{eqnarray}\n",
    "\\dot{x} = \n",
    "\\begin{bmatrix}\n",
    "f_1(x,u) \\\\\n",
    "f_2(x,u)\n",
    "\\end{bmatrix} &=& \\frac{d}{dt}\n",
    "\\begin{bmatrix}\n",
    "\\langle i(t)\\rangle \\\\\n",
    "\\langle v(t)\\rangle\n",
    "\\end{bmatrix} \\text{ where } u = \n",
    "\\begin{bmatrix}\n",
    "d(t) \\\\\n",
    "\\langle v_g(t)\\rangle\n",
    "\\end{bmatrix} \\\\[1em]\n",
    "&& \\frac{d}{dt}\n",
    "\\begin{bmatrix}\n",
    "\\langle i(t)\\rangle \\\\\n",
    "\\langle v(t)\\rangle\n",
    "\\end{bmatrix} = \n",
    "\\begin{bmatrix}\n",
    "\\frac{1}{L}\\left[\\langle v_g(t)\\rangle-2R_{on}\\langle i(t)\\rangle -\\langle v(t)\\rangle \\right]d(t) + \\frac{1}{L}\\left[-\\langle v_g(t)\\rangle-2R_{on}\\langle i(t)\\rangle -\\langle v(t)\\rangle \\right]d'(t) \\\\\n",
    "\\frac{1}{C}\\left[\\langle i(t)\\rangle-\\frac{\\langle v(t)\\rangle}{R} \\right]d(t)+\\frac{1}{C}\\left[\\langle i(t)\\rangle-\\frac{\\langle v(t)\\rangle}{R} \\right]d'(t)\n",
    "\\end{bmatrix} \\\\[1em]\n",
    "&& \\frac{d}{dt}\n",
    "\\begin{bmatrix}\n",
    "\\langle i(t)\\rangle \\\\\n",
    "\\langle v(t)\\rangle\n",
    "\\end{bmatrix} = \n",
    "\\begin{bmatrix}\n",
    "\\frac{1}{L}\\left[(2d(t)-1)\\langle v_g(t)\\rangle-2R_{on}\\langle i(t)\\rangle -\\langle v(t)\\rangle \\right] \\\\\n",
    "\\frac{1}{C}\\left[\\langle i(t)\\rangle-\\frac{\\langle v(t)\\rangle}{R} \\right]\n",
    "\\end{bmatrix} \\\\[1em]\n",
    "&& \\frac{d}{dt}\n",
    "\\begin{bmatrix}\n",
    "\\langle i(t)\\rangle \\\\\n",
    "\\langle v(t)\\rangle\n",
    "\\end{bmatrix} = \n",
    "\\begin{bmatrix}\n",
    "\\frac{1}{L}\\left[2d(t)\\langle v_g(t)\\rangle-\\langle v_g(t)\\rangle-2R_{on}\\langle i(t)\\rangle -\\langle v(t)\\rangle \\right] \\\\\n",
    "\\frac{1}{C}\\left[\\langle i(t)\\rangle-\\frac{\\langle v(t)\\rangle}{R} \\right]\n",
    "\\end{bmatrix}\n",
    "\\end{eqnarray}$\n",
    "\n",
    "<hr>"
   ]
  },
  {
   "cell_type": "markdown",
   "id": "97bb471e",
   "metadata": {},
   "source": [
    "$\\begin{eqnarray}\n",
    "\\langle v_{L}(t)\\rangle &=& L\\frac{d}{dt} \\left[I + \\langle \\hat{i}(t)\\rangle \\right] &=& \n",
    "\\bigg[2[D+\\hat{d}(t)] [V_g + \\langle\\hat{v_g}(t)\\rangle]-[V_g + \\langle \\hat{v_g}(t)\\rangle]-2R_{on}[I + \\langle \\hat{i}(t)\\rangle] -[V + \\langle \\hat{v}(t)\\rangle] \\bigg]  \\\\[1em]\n",
    "\\langle v_{L}(t)\\rangle &=& L\\frac{d}{dt} \\left[I + \\langle \\hat{i}(t)\\rangle \\right] &=& \n",
    "\\bigg[2DV_g+2D\\langle\\hat{v_g}(t)\\rangle + 2\\hat{d}(t)V_g + 2\\hat{d}(t)\\langle\\hat{v_g}(t)\\rangle-V_g - \\langle \\hat{v_g}(t)\\rangle -2R_{on}I -2R_{on}\\langle \\hat{i}(t)\\rangle -V - \\langle \\hat{v}(t)\\rangle \\bigg]  \\\\[1em]\n",
    "\\langle \\hat{v}_{L}(t)\\rangle &=& L\\frac{d}{dt} \\langle \\hat{i}(t)\\rangle  &=& \n",
    "\\bigg[2D\\langle\\hat{v_g}(t)\\rangle + 2\\hat{d}(t)V_g -\\langle \\hat{v_g}(t)\\rangle -2R_{on}\\langle \\hat{i}(t)\\rangle -\\langle \\hat{v}(t)\\rangle \\bigg]  \\\\[1em]\n",
    "\\langle \\hat{v}_{L}(t)\\rangle &=& L\\frac{d}{dt} \\langle \\hat{i}(t)\\rangle &=& \n",
    "\\bigg[(2D-1)\\langle\\hat{v_g}(t)\\rangle + 2\\hat{d}(t)V_g -2R_{on}\\langle \\hat{i}(t)\\rangle -\\langle \\hat{v}(t)\\rangle \\bigg]\n",
    "\\end{eqnarray}$\n",
    "\n",
    "<hr>"
   ]
  },
  {
   "cell_type": "markdown",
   "id": "3d8e4495",
   "metadata": {},
   "source": [
    "$\\begin{eqnarray}\n",
    "\\langle i_C (t) \\rangle &=& \n",
    "C\\frac{d}{dt} \\left[V + \\langle \\hat{v}(t)\\rangle \\right] &=& \n",
    "\\bigg[[I + \\langle \\hat{i}(t)\\rangle]-\\frac{1}{R}[V+\\langle v(t)\\rangle]\n",
    "\\bigg]  \\\\[1em]\n",
    "\\langle \\hat{i}_C (t) \\rangle &=& \n",
    "C\\frac{d}{dt} \\langle \\hat{v}(t)\\rangle &=& \n",
    "\\bigg[\\langle \\hat{i}(t)\\rangle -\\frac{\\langle v(t)\\rangle}{R}\n",
    "\\bigg]\n",
    "\\end{eqnarray}$"
   ]
  },
  {
   "cell_type": "code",
   "execution_count": null,
   "id": "aebbfec5",
   "metadata": {},
   "outputs": [],
   "source": []
  }
 ],
 "metadata": {
  "kernelspec": {
   "display_name": "Python 3 (ipykernel)",
   "language": "python",
   "name": "python3"
  },
  "language_info": {
   "codemirror_mode": {
    "name": "ipython",
    "version": 3
   },
   "file_extension": ".py",
   "mimetype": "text/x-python",
   "name": "python",
   "nbconvert_exporter": "python",
   "pygments_lexer": "ipython3",
   "version": "3.7.9"
  },
  "varInspector": {
   "cols": {
    "lenName": 16,
    "lenType": 16,
    "lenVar": 40
   },
   "kernels_config": {
    "python": {
     "delete_cmd_postfix": "",
     "delete_cmd_prefix": "del ",
     "library": "var_list.py",
     "varRefreshCmd": "print(var_dic_list())"
    },
    "r": {
     "delete_cmd_postfix": ") ",
     "delete_cmd_prefix": "rm(",
     "library": "var_list.r",
     "varRefreshCmd": "cat(var_dic_list()) "
    }
   },
   "types_to_exclude": [
    "module",
    "function",
    "builtin_function_or_method",
    "instance",
    "_Feature"
   ],
   "window_display": false
  }
 },
 "nbformat": 4,
 "nbformat_minor": 5
}
