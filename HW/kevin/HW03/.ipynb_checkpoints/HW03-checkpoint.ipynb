{
 "cells": [
  {
   "cell_type": "code",
   "execution_count": 1,
   "id": "14b4246a",
   "metadata": {},
   "outputs": [],
   "source": [
    "# Imports\n",
    "import os\n",
    "import sys\n",
    "import cmath\n",
    "import math\n",
    "import matplotlib.pyplot as plt\n",
    "import matplotlib\n",
    "import numpy as np\n",
    "import pandas as pd\n",
    "import sympy as sp\n",
    "from sympy.utilities.lambdify import lambdify\n",
    "from scipy import signal\n",
    "%matplotlib inline\n",
    "from IPython.core.interactiveshell import InteractiveShell\n",
    "InteractiveShell.ast_node_interactivity = \"all\"\n",
    "from matplotlib.ticker import LogLocator\n",
    "import control"
   ]
  },
  {
   "cell_type": "code",
   "execution_count": 2,
   "id": "55189145",
   "metadata": {},
   "outputs": [
    {
     "data": {
      "text/plain": [
       "47.999722856451825"
      ]
     },
     "execution_count": 2,
     "metadata": {},
     "output_type": "execute_result"
    }
   ],
   "source": [
    "Vg = 24\n",
    "RL = 60e-3\n",
    "R = 100\n",
    "Dp = 0.4988\n",
    "# V\n",
    "(Vg/Dp)*1/(1+(RL/(R*Dp**2)))"
   ]
  },
  {
   "cell_type": "code",
   "execution_count": 3,
   "id": "a1e9bf64",
   "metadata": {},
   "outputs": [
    {
     "data": {
      "text/plain": [
       "0.9623039866971096"
      ]
     },
     "execution_count": 3,
     "metadata": {},
     "output_type": "execute_result"
    }
   ],
   "source": [
    "# I\n",
    "(Vg/(R*Dp**2))*1/(1+(RL/(R*Dp**2)))"
   ]
  },
  {
   "cell_type": "code",
   "execution_count": 4,
   "id": "34812da4",
   "metadata": {},
   "outputs": [],
   "source": [
    "s,n,R_L,R,L,C,D,Dp,V_g = sp.symbols(\"s,n,R_L,R,L,C,D,D',V_g\")"
   ]
  },
  {
   "cell_type": "code",
   "execution_count": 5,
   "id": "f74f7d1d",
   "metadata": {},
   "outputs": [
    {
     "data": {
      "text/latex": [
       "$\\displaystyle \\left[\\begin{matrix}0 & - \\frac{D'}{L}\\\\\\frac{D'}{C} & - \\frac{1}{C R}\\end{matrix}\\right]$"
      ],
      "text/plain": [
       "Matrix([\n",
       "[   0,    -D'/L],\n",
       "[D'/C, -1/(C*R)]])"
      ]
     },
     "execution_count": 5,
     "metadata": {},
     "output_type": "execute_result"
    }
   ],
   "source": [
    "A = sp.Matrix([\n",
    "    [0, -Dp/L],\n",
    "    [Dp/C, -1/(R*C)]\n",
    "])\n",
    "A"
   ]
  },
  {
   "cell_type": "code",
   "execution_count": 6,
   "id": "cc6a7577",
   "metadata": {},
   "outputs": [
    {
     "data": {
      "text/latex": [
       "$\\displaystyle \\left[\\begin{matrix}\\frac{V_{g}}{D' L} & \\frac{1}{L}\\\\- \\frac{V_{g}}{C D'^{2} R} & 0\\end{matrix}\\right]$"
      ],
      "text/plain": [
       "Matrix([\n",
       "[      V_g/(D'*L), 1/L],\n",
       "[-V_g/(C*D'**2*R),   0]])"
      ]
     },
     "execution_count": 6,
     "metadata": {},
     "output_type": "execute_result"
    }
   ],
   "source": [
    "B = sp.Matrix([\n",
    "    [(V_g/(Dp*L)), 1/L],\n",
    "    [(-V_g/(Dp**2*R*C)), 0]\n",
    "])\n",
    "B"
   ]
  },
  {
   "cell_type": "code",
   "execution_count": 7,
   "id": "81d609b6",
   "metadata": {},
   "outputs": [],
   "source": [
    "C = sp.eye(2)\n",
    "E = sp.Matrix([[0, 0],[0, 0]])\n",
    "I = sp.eye(2)"
   ]
  },
  {
   "cell_type": "code",
   "execution_count": 8,
   "id": "f0a22bb8",
   "metadata": {},
   "outputs": [],
   "source": [
    "tf = C*(s*I-A).inv()*B+E"
   ]
  },
  {
   "cell_type": "code",
   "execution_count": 9,
   "id": "2e571979",
   "metadata": {},
   "outputs": [],
   "source": [
    "H = sp.Matrix(tf)"
   ]
  },
  {
   "cell_type": "code",
   "execution_count": 10,
   "id": "4214e0cc",
   "metadata": {},
   "outputs": [
    {
     "data": {
      "text/latex": [
       "$\\displaystyle \\left[\\begin{matrix}\\frac{V_{g} \\left(C R s + 2\\right)}{D' \\left(C L R s^{2} + D'^{2} R + L s\\right)} & \\frac{C R s + 1}{C L R s^{2} + D'^{2} R + L s}\\\\\\frac{V_{g} \\left(D'^{2} R - L s\\right)}{D'^{2} \\left(C L R s^{2} + D'^{2} R + L s\\right)} & \\frac{D' R}{C L R s^{2} + D'^{2} R + L s}\\end{matrix}\\right]$"
      ],
      "text/plain": [
       "Matrix([\n",
       "[       V_g*(C*R*s + 2)/(D'*(C*L*R*s**2 + D'**2*R + L*s)), (C*R*s + 1)/(C*L*R*s**2 + D'**2*R + L*s)],\n",
       "[V_g*(D'**2*R - L*s)/(D'**2*(C*L*R*s**2 + D'**2*R + L*s)),        D'*R/(C*L*R*s**2 + D'**2*R + L*s)]])"
      ]
     },
     "execution_count": 10,
     "metadata": {},
     "output_type": "execute_result"
    }
   ],
   "source": [
    "sp.simplify(H)"
   ]
  },
  {
   "cell_type": "code",
   "execution_count": 11,
   "id": "89067996",
   "metadata": {},
   "outputs": [
    {
     "data": {
      "text/latex": [
       "$\\displaystyle \\frac{V_{g} \\left(D'^{2} R - L s\\right)}{D'^{2} \\left(C L R s^{2} + D'^{2} R + L s\\right)}$"
      ],
      "text/plain": [
       "V_g*(D'**2*R - L*s)/(D'**2*(C*L*R*s**2 + D'**2*R + L*s))"
      ]
     },
     "execution_count": 11,
     "metadata": {},
     "output_type": "execute_result"
    }
   ],
   "source": [
    "sp.simplify(H[2])"
   ]
  },
  {
   "cell_type": "markdown",
   "id": "9deb8921",
   "metadata": {},
   "source": [
    "### Q2"
   ]
  },
  {
   "cell_type": "code",
   "execution_count": 12,
   "id": "3c03d211",
   "metadata": {},
   "outputs": [
    {
     "data": {
      "text/plain": [
       "7372.799999999999"
      ]
     },
     "execution_count": 12,
     "metadata": {},
     "output_type": "execute_result"
    },
    {
     "data": {
      "text/plain": [
       "894.4271909999158"
      ]
     },
     "execution_count": 12,
     "metadata": {},
     "output_type": "execute_result"
    }
   ],
   "source": [
    "R = 36.864\n",
    "Dp = 0.5\n",
    "L = 1.25e-3\n",
    "C = 250e-6\n",
    "\n",
    "Dp**2*R/L\n",
    "Dp/np.sqrt(L*C)"
   ]
  },
  {
   "cell_type": "code",
   "execution_count": 13,
   "id": "780b56f9",
   "metadata": {},
   "outputs": [],
   "source": [
    "system = {\n",
    "    'R'  :37,\n",
    "    'L'  :1.25e-3,\n",
    "    'C'  :250e-6,\n",
    "    \"D'\"  :0.5,\n",
    "    'V_g' :24\n",
    "}\n",
    "f = np.logspace(0, 5, 10000)\n",
    "w = 2*np.pi*f"
   ]
  },
  {
   "cell_type": "code",
   "execution_count": 14,
   "id": "ffa4915c",
   "metadata": {},
   "outputs": [
    {
     "data": {
      "text/latex": [
       "$\\displaystyle \\frac{888 - 0.12 s}{1.15625 \\cdot 10^{-5} s^{2} + 0.00125 s + 9.25}$"
      ],
      "text/plain": [
       "(888 - 0.12*s)/(1.15625e-5*s**2 + 0.00125*s + 9.25)"
      ]
     },
     "execution_count": 14,
     "metadata": {},
     "output_type": "execute_result"
    }
   ],
   "source": [
    "H2 = H[2].subs(system)\n",
    "sp.simplify(H2)"
   ]
  },
  {
   "cell_type": "code",
   "execution_count": 15,
   "id": "9205c6ab",
   "metadata": {},
   "outputs": [
    {
     "data": {
      "text/plain": [
       "array(96.)"
      ]
     },
     "execution_count": 15,
     "metadata": {},
     "output_type": "execute_result"
    },
    {
     "data": {
      "text/plain": [
       "array([7400.])"
      ]
     },
     "execution_count": 15,
     "metadata": {},
     "output_type": "execute_result"
    },
    {
     "data": {
      "text/plain": [
       "array([-54.06574394+892.88851808j, -54.06574394-892.88851808j])"
      ]
     },
     "execution_count": 15,
     "metadata": {},
     "output_type": "execute_result"
    },
    {
     "data": {
      "text/plain": [
       "(0.010416666666666663,\n",
       " -58.26032489846378,\n",
       " 1265.0478333886215,\n",
       " 12204.753522558163)"
      ]
     },
     "execution_count": 15,
     "metadata": {},
     "output_type": "execute_result"
    }
   ],
   "source": [
    "s  = control.TransferFunction.s\n",
    "Gvd = (888 - 0.12*s)/(1.156e-5*s**2+0.00125*s+9.25)\n",
    "gm, pm, wg, wp = control.margin(Gvd)\n",
    "Gvd.dcgain()\n",
    "Gvd.zero()\n",
    "Gvd.pole()\n",
    "gm, pm, wg, wp"
   ]
  },
  {
   "cell_type": "code",
   "execution_count": 16,
   "id": "dbd6a0cc",
   "metadata": {},
   "outputs": [
    {
     "name": "stderr",
     "output_type": "stream",
     "text": [
      "/home/kegedy/anaconda3/lib/python3.7/site-packages/control/freqplot.py:163: FutureWarning: 'Plot' keyword is deprecated in bode_plot; use 'plot'\n",
      "  FutureWarning)\n"
     ]
    },
    {
     "data": {
      "image/png": "[encoded data removed]",
      "text/plain": [
       "<Figure size 432x288 with 2 Axes>"
      ]
     },
     "metadata": {
      "needs_background": "light"
     },
     "output_type": "display_data"
    }
   ],
   "source": [
    "mag, phase, omega = control.bode_plot(Gvd,w,dB=True, Hz=True, deg=True, omega_num=1000, Plot=True)"
   ]
  },
  {
   "cell_type": "code",
   "execution_count": 17,
   "id": "7b4f71bb",
   "metadata": {},
   "outputs": [],
   "source": [
    "s = sp.symbols(\"s\")"
   ]
  },
  {
   "cell_type": "code",
   "execution_count": 18,
   "id": "6ebf5af6",
   "metadata": {},
   "outputs": [],
   "source": [
    "H2 = lambdify(s,H2,modules='numpy')\n",
    "H2 = H2(1j*w)"
   ]
  },
  {
   "cell_type": "code",
   "execution_count": 19,
   "id": "f72a0cfb",
   "metadata": {},
   "outputs": [],
   "source": [
    "system_new = {\n",
    "    'R'  :37,\n",
    "    'L'  :10*1.25e-3,\n",
    "    'C'  :250e-6,\n",
    "    \"D'\"  :0.5,\n",
    "    'V_g' :24\n",
    "}\n",
    "H2_new = None\n",
    "H2_new = H[2].subs(system_new)"
   ]
  },
  {
   "cell_type": "code",
   "execution_count": 23,
   "id": "6c612da0",
   "metadata": {},
   "outputs": [
    {
     "data": {
      "text/latex": [
       "$\\displaystyle \\frac{888 - 1.2 s}{0.000115625 s^{2} + 0.0125 s + 9.25}$"
      ],
      "text/plain": [
       "(888 - 1.2*s)/(0.000115625*s**2 + 0.0125*s + 9.25)"
      ]
     },
     "execution_count": 23,
     "metadata": {},
     "output_type": "execute_result"
    }
   ],
   "source": [
    "sp.simplify(H2_new)"
   ]
  },
  {
   "cell_type": "code",
   "execution_count": 21,
   "id": "ad6778ee",
   "metadata": {},
   "outputs": [
    {
     "data": {
      "text/plain": [
       "array(96.)"
      ]
     },
     "execution_count": 21,
     "metadata": {},
     "output_type": "execute_result"
    },
    {
     "data": {
      "text/plain": [
       "array([7400.])"
      ]
     },
     "execution_count": 21,
     "metadata": {},
     "output_type": "execute_result"
    },
    {
     "data": {
      "text/plain": [
       "array([-54.06574394+892.88851808j, -54.06574394-892.88851808j])"
      ]
     },
     "execution_count": 21,
     "metadata": {},
     "output_type": "execute_result"
    },
    {
     "data": {
      "text/plain": [
       "(0.010416666666666663,\n",
       " -58.26032489846378,\n",
       " 1265.0478333886215,\n",
       " 12204.753522558163)"
      ]
     },
     "execution_count": 21,
     "metadata": {},
     "output_type": "execute_result"
    }
   ],
   "source": [
    "s  = control.TransferFunction.s\n",
    "Gvd = (888 - 2.2*s)/(0.000156e-5*s**2+0.0125*s+9.25)\n",
    "gm, pm, wg, wp = control.margin(Gvd)\n",
    "Gvd.dcgain()\n",
    "Gvd.zero()\n",
    "Gvd.pole()\n",
    "gm, pm, wg, wp"
   ]
  },
  {
   "cell_type": "code",
   "execution_count": 22,
   "id": "491d27aa",
   "metadata": {},
   "outputs": [
    {
     "ename": "TypeError",
     "evalue": "cannot unpack non-iterable int object",
     "output_type": "error",
     "traceback": [
      "\u001b[0;31m---------------------------------------------------------------------------\u001b[0m",
      "\u001b[0;31mTypeError\u001b[0m                                 Traceback (most recent call last)",
      "\u001b[0;32m/tmp/ipykernel_6371/3287013744.py\u001b[0m in \u001b[0;36m<module>\u001b[0;34m\u001b[0m\n\u001b[0;32m----> 1\u001b[0;31m \u001b[0mH2_new\u001b[0m \u001b[0;34m=\u001b[0m \u001b[0mlambdify\u001b[0m\u001b[0;34m(\u001b[0m\u001b[0ms\u001b[0m\u001b[0;34m,\u001b[0m\u001b[0mH2_new\u001b[0m\u001b[0;34m,\u001b[0m\u001b[0mmodules\u001b[0m\u001b[0;34m=\u001b[0m\u001b[0;34m'numpy'\u001b[0m\u001b[0;34m)\u001b[0m\u001b[0;34m\u001b[0m\u001b[0;34m\u001b[0m\u001b[0m\n\u001b[0m\u001b[1;32m      2\u001b[0m \u001b[0mH2_new\u001b[0m \u001b[0;34m=\u001b[0m \u001b[0mH2_new\u001b[0m\u001b[0;34m(\u001b[0m\u001b[0;36m1j\u001b[0m\u001b[0;34m*\u001b[0m\u001b[0mw\u001b[0m\u001b[0;34m)\u001b[0m\u001b[0;34m\u001b[0m\u001b[0;34m\u001b[0m\u001b[0m\n",
      "\u001b[0;32m~/anaconda3/lib/python3.7/site-packages/sympy/utilities/lambdify.py\u001b[0m in \u001b[0;36mlambdify\u001b[0;34m(args, expr, modules, printer, use_imps, dummify, cse)\u001b[0m\n\u001b[1;32m    838\u001b[0m     \u001b[0;31m# Grab the callers frame, for getting the names by inspection (if needed)\u001b[0m\u001b[0;34m\u001b[0m\u001b[0;34m\u001b[0m\u001b[0;34m\u001b[0m\u001b[0m\n\u001b[1;32m    839\u001b[0m     \u001b[0mcallers_local_vars\u001b[0m \u001b[0;34m=\u001b[0m \u001b[0minspect\u001b[0m\u001b[0;34m.\u001b[0m\u001b[0mcurrentframe\u001b[0m\u001b[0;34m(\u001b[0m\u001b[0;34m)\u001b[0m\u001b[0;34m.\u001b[0m\u001b[0mf_back\u001b[0m\u001b[0;34m.\u001b[0m\u001b[0mf_locals\u001b[0m\u001b[0;34m.\u001b[0m\u001b[0mitems\u001b[0m\u001b[0;34m(\u001b[0m\u001b[0;34m)\u001b[0m \u001b[0;31m# type: ignore\u001b[0m\u001b[0;34m\u001b[0m\u001b[0;34m\u001b[0m\u001b[0m\n\u001b[0;32m--> 840\u001b[0;31m     \u001b[0;32mfor\u001b[0m \u001b[0mn\u001b[0m\u001b[0;34m,\u001b[0m \u001b[0mvar\u001b[0m \u001b[0;32min\u001b[0m \u001b[0menumerate\u001b[0m\u001b[0;34m(\u001b[0m\u001b[0margs\u001b[0m\u001b[0;34m)\u001b[0m\u001b[0;34m:\u001b[0m\u001b[0;34m\u001b[0m\u001b[0;34m\u001b[0m\u001b[0m\n\u001b[0m\u001b[1;32m    841\u001b[0m         \u001b[0;32mif\u001b[0m \u001b[0mhasattr\u001b[0m\u001b[0;34m(\u001b[0m\u001b[0mvar\u001b[0m\u001b[0;34m,\u001b[0m \u001b[0;34m'name'\u001b[0m\u001b[0;34m)\u001b[0m\u001b[0;34m:\u001b[0m\u001b[0;34m\u001b[0m\u001b[0;34m\u001b[0m\u001b[0m\n\u001b[1;32m    842\u001b[0m             \u001b[0mnames\u001b[0m\u001b[0;34m.\u001b[0m\u001b[0mappend\u001b[0m\u001b[0;34m(\u001b[0m\u001b[0mvar\u001b[0m\u001b[0;34m.\u001b[0m\u001b[0mname\u001b[0m\u001b[0;34m)\u001b[0m\u001b[0;34m\u001b[0m\u001b[0;34m\u001b[0m\u001b[0m\n",
      "\u001b[0;32m~/anaconda3/lib/python3.7/site-packages/control/xferfcn.py\u001b[0m in \u001b[0;36m__getitem__\u001b[0;34m(self, key)\u001b[0m\n\u001b[1;32m    570\u001b[0m \u001b[0;34m\u001b[0m\u001b[0m\n\u001b[1;32m    571\u001b[0m     \u001b[0;32mdef\u001b[0m \u001b[0m__getitem__\u001b[0m\u001b[0;34m(\u001b[0m\u001b[0mself\u001b[0m\u001b[0;34m,\u001b[0m \u001b[0mkey\u001b[0m\u001b[0;34m)\u001b[0m\u001b[0;34m:\u001b[0m\u001b[0;34m\u001b[0m\u001b[0;34m\u001b[0m\u001b[0m\n\u001b[0;32m--> 572\u001b[0;31m         \u001b[0mkey1\u001b[0m\u001b[0;34m,\u001b[0m \u001b[0mkey2\u001b[0m \u001b[0;34m=\u001b[0m \u001b[0mkey\u001b[0m\u001b[0;34m\u001b[0m\u001b[0;34m\u001b[0m\u001b[0m\n\u001b[0m\u001b[1;32m    573\u001b[0m \u001b[0;34m\u001b[0m\u001b[0m\n\u001b[1;32m    574\u001b[0m         \u001b[0;31m# pre-process\u001b[0m\u001b[0;34m\u001b[0m\u001b[0;34m\u001b[0m\u001b[0;34m\u001b[0m\u001b[0m\n",
      "\u001b[0;31mTypeError\u001b[0m: cannot unpack non-iterable int object"
     ]
    }
   ],
   "source": [
    "H2_new = lambdify(s,H2_new,modules='numpy')\n",
    "H2_new = H2_new(1j*w)"
   ]
  },
  {
   "cell_type": "code",
   "execution_count": null,
   "id": "6ad2af61",
   "metadata": {},
   "outputs": [],
   "source": [
    "fig, ax = plt.subplots(2,1,figsize=(10,10))\n",
    "\n",
    "ax[0].set_title('$G_{vd}(s)$: Reduce Ripple Current')\n",
    "ax[0].semilogx(f,20*np.log10(abs(H2)),label='$G_{vd}(s)$')\n",
    "ax[0].semilogx(f,20*np.log10(abs(H2_new)),label=\"$change$\",linestyle='--')\n",
    "ax[0].set_ylabel('Magnitude [dB]')\n",
    "ax[0].grid(which='both', axis='both')\n",
    "ax[0].legend()\n",
    "\n",
    "ax[1].semilogx(f,np.angle(H2,deg=True),label='$G_{vd}(s)$')\n",
    "ax[1].semilogx(f,np.angle(H2_new,deg=True),label='$change$',linestyle='--')\n",
    "ax[1].set_ylabel('Phase [degrees]')\n",
    "ax[1].set_xlabel('Frequency [Hz]')\n",
    "ax[1].grid(which='both', axis='both')\n",
    "ax[1].legend()\n",
    "plt.show();"
   ]
  },
  {
   "cell_type": "code",
   "execution_count": null,
   "id": "aaeb7de1",
   "metadata": {},
   "outputs": [],
   "source": [
    "system_new = {\n",
    "    'R'  :37,\n",
    "    'L'  :1.25e-3,\n",
    "    'C'  :250e-6,\n",
    "    \"D'\"  :0.5*1.58,\n",
    "    'V_g' :24\n",
    "}\n",
    "H2_new = None\n",
    "H2_new = H[2].subs(system_new)\n",
    "H2_new = lambdify(s,H2_new,modules='numpy')\n",
    "H2_new = H2_new(1j*w)"
   ]
  },
  {
   "cell_type": "code",
   "execution_count": null,
   "id": "a50fab23",
   "metadata": {},
   "outputs": [],
   "source": [
    "fig, ax = plt.subplots(2,1,figsize=(10,10))\n",
    "\n",
    "ax[0].set_title('$G_{vd}(s)$: Decrease Output Power')\n",
    "ax[0].semilogx(f,20*np.log10(abs(H2)),label='$G_{vd}(s)$')\n",
    "ax[0].semilogx(f,20*np.log10(abs(H2_new)),label=\"$change$\",linestyle='--')\n",
    "ax[0].set_ylabel('Magnitude [dB]')\n",
    "ax[0].grid(which='both', axis='both')\n",
    "ax[0].legend()\n",
    "\n",
    "ax[1].semilogx(f,np.angle(H2,deg=True),label='$G_{vd}(s)$')\n",
    "ax[1].semilogx(f,np.angle(H2_new,deg=True),label='$change$',linestyle='--')\n",
    "ax[1].set_ylabel('Phase [degrees]')\n",
    "ax[1].set_xlabel('Frequency [Hz]')\n",
    "ax[1].grid(which='both', axis='both')\n",
    "ax[1].legend()\n",
    "plt.show();"
   ]
  },
  {
   "cell_type": "code",
   "execution_count": null,
   "id": "fa0cabb0",
   "metadata": {},
   "outputs": [],
   "source": [
    "system_new = {\n",
    "    'R'  :37,\n",
    "    'L'  :1.25e-3,\n",
    "    'C'  :250e-6,\n",
    "    \"D'\"  :0.5*48/30,\n",
    "    'V_g' :24\n",
    "}\n",
    "H2_new = None\n",
    "H2_new = H[2].subs(system_new)\n",
    "H2_new = lambdify(s,H2_new,modules='numpy')\n",
    "H2_new = H2_new(1j*w)"
   ]
  },
  {
   "cell_type": "code",
   "execution_count": null,
   "id": "f2d0ef8c",
   "metadata": {},
   "outputs": [],
   "source": [
    "fig, ax = plt.subplots(2,1,figsize=(10,10))\n",
    "\n",
    "ax[0].set_title('$G_{vd}(s)$: Decrease Output Voltage')\n",
    "ax[0].semilogx(f,20*np.log10(abs(H2)),label='$G_{vd}(s)$')\n",
    "ax[0].semilogx(f,20*np.log10(abs(H2_new)),label=\"$change$\",linestyle='--')\n",
    "ax[0].set_ylabel('Magnitude [dB]')\n",
    "ax[0].grid(which='both', axis='both')\n",
    "ax[0].legend()\n",
    "\n",
    "ax[1].semilogx(f,np.angle(H2,deg=True),label='$G_{vd}(s)$')\n",
    "ax[1].semilogx(f,np.angle(H2_new,deg=True),label='$change$',linestyle='--')\n",
    "ax[1].set_ylabel('Phase [degrees]')\n",
    "ax[1].set_xlabel('Frequency [Hz]')\n",
    "ax[1].grid(which='both', axis='both')\n",
    "ax[1].legend()\n",
    "plt.show();"
   ]
  },
  {
   "cell_type": "code",
   "execution_count": null,
   "id": "2cefedb0",
   "metadata": {},
   "outputs": [],
   "source": []
  },
  {
   "cell_type": "markdown",
   "id": "1d6f9e00",
   "metadata": {},
   "source": [
    "### Q3: Blank Bode Plots"
   ]
  },
  {
   "cell_type": "code",
   "execution_count": null,
   "id": "2f831483",
   "metadata": {},
   "outputs": [],
   "source": [
    "f = np.logspace(0, 5, 10000)\n",
    "w = 2*np.pi*f\n",
    "fig, ax = plt.subplots(2,1,figsize=(10,10))\n",
    "\n",
    "ax[0].semilogx(f,20*np.log10(100000)*np.ones(len(f)))\n",
    "ax[0].set_xlim([0,1e6])\n",
    "ax[0].set_ylim([-80,80])\n",
    "ax[0].set_ylabel('Magnitude [dB]')\n",
    "ax[0].grid(which='both', axis='both')\n",
    "ax[0].legend()\n",
    "\n",
    "ax[1].semilogx(f,20*np.log10(10000)*np.ones(len(f)))\n",
    "ax[1].set_xlim([0,1e6])\n",
    "ax[1].set_ylim([-180,0])\n",
    "ax[1].set_ylabel('Phase [degrees]')\n",
    "ax[1].set_xlabel('Frequency [Hz]')\n",
    "ax[1].grid(which='both', axis='both')\n",
    "ax[1].legend()\n",
    "plt.show();"
   ]
  },
  {
   "cell_type": "code",
   "execution_count": null,
   "id": "c5982f28",
   "metadata": {},
   "outputs": [],
   "source": [
    "H0 = 100/(1+s/(2*3.1415*1000))\n",
    "H1 = 1/(1+s/(2*3.1415*10000))\n",
    "H2 = H0*H1"
   ]
  },
  {
   "cell_type": "code",
   "execution_count": null,
   "id": "24ca9a65",
   "metadata": {},
   "outputs": [],
   "source": [
    "H0 = lambdify(s,H0,modules='numpy')\n",
    "H0 = H0(1j*w)\n",
    "H1 = lambdify(s,H1,modules='numpy')\n",
    "H1 = H1(1j*w)\n",
    "H2 = lambdify(s,H2,modules='numpy')\n",
    "H2 = H2(1j*w)"
   ]
  },
  {
   "cell_type": "code",
   "execution_count": null,
   "id": "63ef49af",
   "metadata": {},
   "outputs": [],
   "source": [
    "f = np.logspace(0, 5, 10000)\n",
    "w = 2*np.pi*f\n",
    "fig, ax = plt.subplots(2,1,figsize=(10,10))\n",
    "\n",
    "ax[0].set_title('Frequency Response$')\n",
    "ax[0].semilogx(f,20*np.log10(abs(H0)),label='$G_{1}(s)$')\n",
    "ax[0].semilogx(f,20*np.log10(abs(H1)),label='$G_{2}(s)$')\n",
    "ax[0].semilogx(f,20*np.log10(abs(H2)),label='$G_{1}(s) G_{2}(s)$')\n",
    "#ax[0].set_xlim([1,fsw/2])\n",
    "ax[0].set_ylabel('Magnitude [dB]')\n",
    "ax[0].grid(which='both', axis='both')\n",
    "ax[0].legend()\n",
    "\n",
    "ax[1].semilogx(f,np.angle(H0,deg=True),label='$G_{1}(s)$')\n",
    "ax[1].semilogx(f,np.angle(H1,deg=True),label='$G_{2}(s)$')\n",
    "ax[1].semilogx(f,np.angle(H2,deg=True),label='$G_{1}(s) G_{2}(s)$')\n",
    "#ax[1].set_xlim([1,fsw/2])\n",
    "ax[1].set_ylabel('Phase [degrees]')\n",
    "ax[1].set_xlabel('Frequency [Hz]')\n",
    "ax[1].grid(which='both', axis='both')\n",
    "ax[1].legend()\n",
    "plt.show();"
   ]
  },
  {
   "cell_type": "code",
   "execution_count": null,
   "id": "cbb1a972",
   "metadata": {},
   "outputs": [],
   "source": []
  }
 ],
 "metadata": {
  "kernelspec": {
   "display_name": "Python 3 (ipykernel)",
   "language": "python",
   "name": "python3"
  },
  "language_info": {
   "codemirror_mode": {
    "name": "ipython",
    "version": 3
   },
   "file_extension": ".py",
   "mimetype": "text/x-python",
   "name": "python",
   "nbconvert_exporter": "python",
   "pygments_lexer": "ipython3",
   "version": "3.7.9"
  },
  "varInspector": {
   "cols": {
    "lenName": 16,
    "lenType": 16,
    "lenVar": 40
   },
   "kernels_config": {
    "python": {
     "delete_cmd_postfix": "",
     "delete_cmd_prefix": "del ",
     "library": "var_list.py",
     "varRefreshCmd": "print(var_dic_list())"
    },
    "r": {
     "delete_cmd_postfix": ") ",
     "delete_cmd_prefix": "rm(",
     "library": "var_list.r",
     "varRefreshCmd": "cat(var_dic_list()) "
    }
   },
   "types_to_exclude": [
    "module",
    "function",
    "builtin_function_or_method",
    "instance",
    "_Feature"
   ],
   "window_display": false
  }
 },
 "nbformat": 4,
 "nbformat_minor": 5
}
